{
 "cells": [
  {
   "cell_type": "code",
   "execution_count": 1,
   "id": "63b88a2d-553a-4941-8097-228fbde88947",
   "metadata": {},
   "outputs": [],
   "source": [
    "import random \n",
    "import pandas as pd\n",
    "import numpy as np\n",
    "import scipy.stats as stats\n",
    "import matplotlib.pyplot as plt\n",
    "%matplotlib inline\n",
    "import seaborn as sns\n",
    "\n",
    "# os에 따른 Font 깨짐 제거를 위해 Font 지정\n",
    "import os\n",
    "if os.name =='nt' : \n",
    "    font_family = \"Malgun Gothic\"\n",
    "else :\n",
    "    font_family = \"AppleGothic\"\n",
    "\n",
    "# - 값이 깨지는 문제 해결을 위해 파라미터 값 설정\n",
    "sns.set(font = font_family, rc = {\"axes.unicode_minus\" : False})"
   ]
  },
  {
   "cell_type": "code",
   "execution_count": 33,
   "id": "f81b17ef-8ebc-4f3b-a4d3-dc6078c897ac",
   "metadata": {},
   "outputs": [
    {
     "data": {
      "text/html": [
       "<div>\n",
       "<style scoped>\n",
       "    .dataframe tbody tr th:only-of-type {\n",
       "        vertical-align: middle;\n",
       "    }\n",
       "\n",
       "    .dataframe tbody tr th {\n",
       "        vertical-align: top;\n",
       "    }\n",
       "\n",
       "    .dataframe thead th {\n",
       "        text-align: right;\n",
       "    }\n",
       "</style>\n",
       "<table border=\"1\" class=\"dataframe\">\n",
       "  <thead>\n",
       "    <tr style=\"text-align: right;\">\n",
       "      <th></th>\n",
       "      <th>A열</th>\n",
       "      <th>B열</th>\n",
       "      <th>C열</th>\n",
       "    </tr>\n",
       "  </thead>\n",
       "  <tbody>\n",
       "    <tr>\n",
       "      <th>count</th>\n",
       "      <td>100.000000</td>\n",
       "      <td>100.000000</td>\n",
       "      <td>100.000000</td>\n",
       "    </tr>\n",
       "    <tr>\n",
       "      <th>mean</th>\n",
       "      <td>-0.083714</td>\n",
       "      <td>-0.126882</td>\n",
       "      <td>-0.064792</td>\n",
       "    </tr>\n",
       "    <tr>\n",
       "      <th>std</th>\n",
       "      <td>0.960523</td>\n",
       "      <td>1.068532</td>\n",
       "      <td>0.979015</td>\n",
       "    </tr>\n",
       "    <tr>\n",
       "      <th>min</th>\n",
       "      <td>-2.468029</td>\n",
       "      <td>-2.383001</td>\n",
       "      <td>-2.731904</td>\n",
       "    </tr>\n",
       "    <tr>\n",
       "      <th>25%</th>\n",
       "      <td>-0.711213</td>\n",
       "      <td>-0.944147</td>\n",
       "      <td>-0.676383</td>\n",
       "    </tr>\n",
       "    <tr>\n",
       "      <th>50%</th>\n",
       "      <td>0.006088</td>\n",
       "      <td>-0.082666</td>\n",
       "      <td>-0.135398</td>\n",
       "    </tr>\n",
       "    <tr>\n",
       "      <th>75%</th>\n",
       "      <td>0.597101</td>\n",
       "      <td>0.615616</td>\n",
       "      <td>0.623391</td>\n",
       "    </tr>\n",
       "    <tr>\n",
       "      <th>max</th>\n",
       "      <td>1.934936</td>\n",
       "      <td>3.112429</td>\n",
       "      <td>2.068252</td>\n",
       "    </tr>\n",
       "  </tbody>\n",
       "</table>\n",
       "</div>"
      ],
      "text/plain": [
       "               A열          B열          C열\n",
       "count  100.000000  100.000000  100.000000\n",
       "mean    -0.083714   -0.126882   -0.064792\n",
       "std      0.960523    1.068532    0.979015\n",
       "min     -2.468029   -2.383001   -2.731904\n",
       "25%     -0.711213   -0.944147   -0.676383\n",
       "50%      0.006088   -0.082666   -0.135398\n",
       "75%      0.597101    0.615616    0.623391\n",
       "max      1.934936    3.112429    2.068252"
      ]
     },
     "execution_count": 33,
     "metadata": {},
     "output_type": "execute_result"
    }
   ],
   "source": [
    "# 이상값 데이터 생성\n",
    "boxdata = pd.DataFrame(np.random.randn(100, 3), columns = [\"A열\", \"B열\", \"C열\"])\n",
    "\n",
    "boxdata.describe()"
   ]
  },
  {
   "cell_type": "code",
   "execution_count": 35,
   "id": "3c902480-0b59-471c-8dd7-be2d14fbb0e3",
   "metadata": {},
   "outputs": [
    {
     "data": {
      "image/png": "[encoded data removed]",
      "text/plain": [
       "<Figure size 640x480 with 1 Axes>"
      ]
     },
     "metadata": {},
     "output_type": "display_data"
    }
   ],
   "source": [
    "# 박스 플롯을 이용한 이상값 확인\n",
    "\n",
    "sns.boxplot(data = boxdata)\n",
    "plt.show()"
   ]
  },
  {
   "cell_type": "code",
   "execution_count": 37,
   "id": "32b5bafb-c33a-45ed-bd09-79d386ad0c2f",
   "metadata": {},
   "outputs": [],
   "source": [
    "# 이상값 계산하는 함수\n",
    "def get_outlier(df=None, column = None, weight = 1.5) :\n",
    "    quantile_25 = np.percentile(df[column].values, 25)\n",
    "    quantile_75 = np.percentile(df[column].values, 75)\n",
    "\n",
    "    IQR = quantile_75 - quantile_25\n",
    "    IQR_weight = IQR * weight\n",
    "\n",
    "    lowest = quantile_25 - IQR_weight\n",
    "    highest = quantile_75 + IQR_weight\n",
    "\n",
    "    outlier_idx = df[column][ (df[column] < lowest) | (df[column] > highest) ].index\n",
    "    return outlier_idx"
   ]
  },
  {
   "cell_type": "code",
   "execution_count": 41,
   "id": "3f66833f-b501-4f38-bd4b-610cb3347a3d",
   "metadata": {},
   "outputs": [
    {
     "name": "stdout",
     "output_type": "stream",
     "text": [
      "Index([79], dtype='int64')\n"
     ]
    }
   ],
   "source": [
    "# 함수 사용해서 B열의 이상값 확인\n",
    "outlier_idx = get_outlier(df = boxdata, column = 'B열', weight = 1.5)\n",
    "# 이상값의 인덱스 출력\n",
    "print(outlier_idx)"
   ]
  },
  {
   "cell_type": "code",
   "execution_count": 43,
   "id": "9992c9e3-312d-4be1-85b1-1b9edf3ec100",
   "metadata": {},
   "outputs": [
    {
     "data": {
      "image/png": "[encoded data removed]",
      "text/plain": [
       "<Figure size 640x480 with 1 Axes>"
      ]
     },
     "metadata": {},
     "output_type": "display_data"
    }
   ],
   "source": [
    "# 이상값 삭제\n",
    "boxdata.drop(outlier_idx, axis = 0, inplace = True)\n",
    "\n",
    "# 박스 플롯을 이용한 이상값 확인\n",
    "sns.boxplot(data = boxdata)\n",
    "plt.show()"
   ]
  },
  {
   "cell_type": "code",
   "execution_count": null,
   "id": "b571ce71-10af-43a4-982b-69435e747bef",
   "metadata": {},
   "outputs": [],
   "source": []
  }
 ],
 "metadata": {
  "kernelspec": {
   "display_name": "Python [conda env:base] *",
   "language": "python",
   "name": "conda-base-py"
  },
  "language_info": {
   "codemirror_mode": {
    "name": "ipython",
    "version": 3
   },
   "file_extension": ".py",
   "mimetype": "text/x-python",
   "name": "python",
   "nbconvert_exporter": "python",
   "pygments_lexer": "ipython3",
   "version": "3.12.7"
  }
 },
 "nbformat": 4,
 "nbformat_minor": 5
}
