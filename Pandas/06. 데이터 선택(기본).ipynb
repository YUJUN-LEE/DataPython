{
 "cells": [
  {
   "cell_type": "markdown",
   "id": "4e21d673-0187-4ede-aed7-42b1fd3b0922",
   "metadata": {},
   "source": [
    "# 6. 데이터 선택(기본)"
   ]
  },
  {
   "cell_type": "code",
   "execution_count": 2,
   "id": "3b099f32-9629-4485-892b-1a47f3f7810a",
   "metadata": {},
   "outputs": [
    {
     "data": {
      "text/html": [
       "<div>\n",
       "<style scoped>\n",
       "    .dataframe tbody tr th:only-of-type {\n",
       "        vertical-align: middle;\n",
       "    }\n",
       "\n",
       "    .dataframe tbody tr th {\n",
       "        vertical-align: top;\n",
       "    }\n",
       "\n",
       "    .dataframe thead th {\n",
       "        text-align: right;\n",
       "    }\n",
       "</style>\n",
       "<table border=\"1\" class=\"dataframe\">\n",
       "  <thead>\n",
       "    <tr style=\"text-align: right;\">\n",
       "      <th></th>\n",
       "      <th>이름</th>\n",
       "      <th>학교</th>\n",
       "      <th>키</th>\n",
       "      <th>국어</th>\n",
       "      <th>영어</th>\n",
       "      <th>수학</th>\n",
       "      <th>과학</th>\n",
       "      <th>사회</th>\n",
       "      <th>SW특기</th>\n",
       "    </tr>\n",
       "    <tr>\n",
       "      <th>지원번호</th>\n",
       "      <th></th>\n",
       "      <th></th>\n",
       "      <th></th>\n",
       "      <th></th>\n",
       "      <th></th>\n",
       "      <th></th>\n",
       "      <th></th>\n",
       "      <th></th>\n",
       "      <th></th>\n",
       "    </tr>\n",
       "  </thead>\n",
       "  <tbody>\n",
       "    <tr>\n",
       "      <th>1번</th>\n",
       "      <td>채치수</td>\n",
       "      <td>북산고</td>\n",
       "      <td>197</td>\n",
       "      <td>90</td>\n",
       "      <td>85</td>\n",
       "      <td>100</td>\n",
       "      <td>95</td>\n",
       "      <td>85</td>\n",
       "      <td>Python</td>\n",
       "    </tr>\n",
       "    <tr>\n",
       "      <th>2번</th>\n",
       "      <td>정대만</td>\n",
       "      <td>북산고</td>\n",
       "      <td>184</td>\n",
       "      <td>40</td>\n",
       "      <td>35</td>\n",
       "      <td>50</td>\n",
       "      <td>55</td>\n",
       "      <td>25</td>\n",
       "      <td>Java</td>\n",
       "    </tr>\n",
       "    <tr>\n",
       "      <th>3번</th>\n",
       "      <td>송태섭</td>\n",
       "      <td>북산고</td>\n",
       "      <td>168</td>\n",
       "      <td>80</td>\n",
       "      <td>75</td>\n",
       "      <td>70</td>\n",
       "      <td>80</td>\n",
       "      <td>75</td>\n",
       "      <td>Javascript</td>\n",
       "    </tr>\n",
       "    <tr>\n",
       "      <th>4번</th>\n",
       "      <td>서태웅</td>\n",
       "      <td>북산고</td>\n",
       "      <td>187</td>\n",
       "      <td>40</td>\n",
       "      <td>60</td>\n",
       "      <td>70</td>\n",
       "      <td>75</td>\n",
       "      <td>80</td>\n",
       "      <td>NaN</td>\n",
       "    </tr>\n",
       "    <tr>\n",
       "      <th>5번</th>\n",
       "      <td>강백호</td>\n",
       "      <td>북산고</td>\n",
       "      <td>188</td>\n",
       "      <td>15</td>\n",
       "      <td>20</td>\n",
       "      <td>10</td>\n",
       "      <td>35</td>\n",
       "      <td>10</td>\n",
       "      <td>NaN</td>\n",
       "    </tr>\n",
       "    <tr>\n",
       "      <th>6번</th>\n",
       "      <td>변덕규</td>\n",
       "      <td>능남고</td>\n",
       "      <td>202</td>\n",
       "      <td>80</td>\n",
       "      <td>100</td>\n",
       "      <td>95</td>\n",
       "      <td>85</td>\n",
       "      <td>80</td>\n",
       "      <td>C</td>\n",
       "    </tr>\n",
       "    <tr>\n",
       "      <th>7번</th>\n",
       "      <td>황태산</td>\n",
       "      <td>능남고</td>\n",
       "      <td>188</td>\n",
       "      <td>55</td>\n",
       "      <td>65</td>\n",
       "      <td>45</td>\n",
       "      <td>40</td>\n",
       "      <td>35</td>\n",
       "      <td>PYTHON</td>\n",
       "    </tr>\n",
       "    <tr>\n",
       "      <th>8번</th>\n",
       "      <td>윤대협</td>\n",
       "      <td>능남고</td>\n",
       "      <td>190</td>\n",
       "      <td>100</td>\n",
       "      <td>85</td>\n",
       "      <td>90</td>\n",
       "      <td>95</td>\n",
       "      <td>95</td>\n",
       "      <td>C#</td>\n",
       "    </tr>\n",
       "  </tbody>\n",
       "</table>\n",
       "</div>"
      ],
      "text/plain": [
       "       이름   학교    키   국어   영어   수학  과학  사회        SW특기\n",
       "지원번호                                                  \n",
       "1번    채치수  북산고  197   90   85  100  95  85      Python\n",
       "2번    정대만  북산고  184   40   35   50  55  25        Java\n",
       "3번    송태섭  북산고  168   80   75   70  80  75  Javascript\n",
       "4번    서태웅  북산고  187   40   60   70  75  80         NaN\n",
       "5번    강백호  북산고  188   15   20   10  35  10         NaN\n",
       "6번    변덕규  능남고  202   80  100   95  85  80           C\n",
       "7번    황태산  능남고  188   55   65   45  40  35      PYTHON\n",
       "8번    윤대협  능남고  190  100   85   90  95  95          C#"
      ]
     },
     "execution_count": 2,
     "metadata": {},
     "output_type": "execute_result"
    }
   ],
   "source": [
    "import pandas as pd\n",
    "df = pd.read_excel('score.xlsx', index_col = '지원번호')\n",
    "df"
   ]
  },
  {
   "cell_type": "markdown",
   "id": "403522b1-71a5-4dae-acaf-0f126a016f52",
   "metadata": {},
   "source": [
    "## Column 선택 (label)"
   ]
  },
  {
   "cell_type": "code",
   "execution_count": 5,
   "id": "fef4259a-839a-4835-b47b-d37b6f57954c",
   "metadata": {},
   "outputs": [
    {
     "data": {
      "text/plain": [
       "지원번호\n",
       "1번    채치수\n",
       "2번    정대만\n",
       "3번    송태섭\n",
       "4번    서태웅\n",
       "5번    강백호\n",
       "6번    변덕규\n",
       "7번    황태산\n",
       "8번    윤대협\n",
       "Name: 이름, dtype: object"
      ]
     },
     "execution_count": 5,
     "metadata": {},
     "output_type": "execute_result"
    }
   ],
   "source": [
    "df['이름']"
   ]
  },
  {
   "cell_type": "code",
   "execution_count": 7,
   "id": "b8f5885c-bc33-40ff-8054-9bd20e7aed12",
   "metadata": {},
   "outputs": [
    {
     "data": {
      "text/plain": [
       "지원번호\n",
       "1번    197\n",
       "2번    184\n",
       "3번    168\n",
       "4번    187\n",
       "5번    188\n",
       "6번    202\n",
       "7번    188\n",
       "8번    190\n",
       "Name: 키, dtype: int64"
      ]
     },
     "execution_count": 7,
     "metadata": {},
     "output_type": "execute_result"
    }
   ],
   "source": [
    "df['키']"
   ]
  },
  {
   "cell_type": "code",
   "execution_count": 9,
   "id": "b31e2a9d-6145-4eb2-925e-de5b58a21016",
   "metadata": {},
   "outputs": [
    {
     "data": {
      "text/html": [
       "<div>\n",
       "<style scoped>\n",
       "    .dataframe tbody tr th:only-of-type {\n",
       "        vertical-align: middle;\n",
       "    }\n",
       "\n",
       "    .dataframe tbody tr th {\n",
       "        vertical-align: top;\n",
       "    }\n",
       "\n",
       "    .dataframe thead th {\n",
       "        text-align: right;\n",
       "    }\n",
       "</style>\n",
       "<table border=\"1\" class=\"dataframe\">\n",
       "  <thead>\n",
       "    <tr style=\"text-align: right;\">\n",
       "      <th></th>\n",
       "      <th>이름</th>\n",
       "      <th>키</th>\n",
       "    </tr>\n",
       "    <tr>\n",
       "      <th>지원번호</th>\n",
       "      <th></th>\n",
       "      <th></th>\n",
       "    </tr>\n",
       "  </thead>\n",
       "  <tbody>\n",
       "    <tr>\n",
       "      <th>1번</th>\n",
       "      <td>채치수</td>\n",
       "      <td>197</td>\n",
       "    </tr>\n",
       "    <tr>\n",
       "      <th>2번</th>\n",
       "      <td>정대만</td>\n",
       "      <td>184</td>\n",
       "    </tr>\n",
       "    <tr>\n",
       "      <th>3번</th>\n",
       "      <td>송태섭</td>\n",
       "      <td>168</td>\n",
       "    </tr>\n",
       "    <tr>\n",
       "      <th>4번</th>\n",
       "      <td>서태웅</td>\n",
       "      <td>187</td>\n",
       "    </tr>\n",
       "    <tr>\n",
       "      <th>5번</th>\n",
       "      <td>강백호</td>\n",
       "      <td>188</td>\n",
       "    </tr>\n",
       "    <tr>\n",
       "      <th>6번</th>\n",
       "      <td>변덕규</td>\n",
       "      <td>202</td>\n",
       "    </tr>\n",
       "    <tr>\n",
       "      <th>7번</th>\n",
       "      <td>황태산</td>\n",
       "      <td>188</td>\n",
       "    </tr>\n",
       "    <tr>\n",
       "      <th>8번</th>\n",
       "      <td>윤대협</td>\n",
       "      <td>190</td>\n",
       "    </tr>\n",
       "  </tbody>\n",
       "</table>\n",
       "</div>"
      ],
      "text/plain": [
       "       이름    키\n",
       "지원번호          \n",
       "1번    채치수  197\n",
       "2번    정대만  184\n",
       "3번    송태섭  168\n",
       "4번    서태웅  187\n",
       "5번    강백호  188\n",
       "6번    변덕규  202\n",
       "7번    황태산  188\n",
       "8번    윤대협  190"
      ]
     },
     "execution_count": 9,
     "metadata": {},
     "output_type": "execute_result"
    }
   ],
   "source": [
    "df[['이름', '키']]"
   ]
  },
  {
   "cell_type": "markdown",
   "id": "90dcb5f3-3431-4344-8a87-753ed08e88a7",
   "metadata": {},
   "source": [
    "## Column 선택 (정수 인덱스)"
   ]
  },
  {
   "cell_type": "code",
   "execution_count": 12,
   "id": "a5bc2069-b468-4dc9-a420-52d3954be52a",
   "metadata": {},
   "outputs": [
    {
     "data": {
      "text/plain": [
       "Index(['이름', '학교', '키', '국어', '영어', '수학', '과학', '사회', 'SW특기'], dtype='object')"
      ]
     },
     "execution_count": 12,
     "metadata": {},
     "output_type": "execute_result"
    }
   ],
   "source": [
    "df.columns"
   ]
  },
  {
   "cell_type": "code",
   "execution_count": 14,
   "id": "811e63e2-d5d0-4341-bd31-a1d5ae082143",
   "metadata": {},
   "outputs": [
    {
     "data": {
      "text/plain": [
       "'이름'"
      ]
     },
     "execution_count": 14,
     "metadata": {},
     "output_type": "execute_result"
    }
   ],
   "source": [
    "df.columns[0]"
   ]
  },
  {
   "cell_type": "code",
   "execution_count": 16,
   "id": "c085b125-841b-4491-bce9-8e84fd8c5a04",
   "metadata": {},
   "outputs": [
    {
     "data": {
      "text/plain": [
       "'키'"
      ]
     },
     "execution_count": 16,
     "metadata": {},
     "output_type": "execute_result"
    }
   ],
   "source": [
    "df.columns[2]"
   ]
  },
  {
   "cell_type": "code",
   "execution_count": 24,
   "id": "df54439d-b507-455f-816f-c3d4b1778538",
   "metadata": {},
   "outputs": [
    {
     "data": {
      "text/plain": [
       "지원번호\n",
       "1번    채치수\n",
       "2번    정대만\n",
       "3번    송태섭\n",
       "4번    서태웅\n",
       "5번    강백호\n",
       "6번    변덕규\n",
       "7번    황태산\n",
       "8번    윤대협\n",
       "Name: 이름, dtype: object"
      ]
     },
     "execution_count": 24,
     "metadata": {},
     "output_type": "execute_result"
    }
   ],
   "source": [
    "df[df.columns[0]] # df['이름']과 동일한 동작"
   ]
  },
  {
   "cell_type": "code",
   "execution_count": 28,
   "id": "6c324ca5-3953-4d65-b22d-93a3986462bb",
   "metadata": {},
   "outputs": [
    {
     "data": {
      "text/plain": [
       "지원번호\n",
       "1번        Python\n",
       "2번          Java\n",
       "3번    Javascript\n",
       "4번           NaN\n",
       "5번           NaN\n",
       "6번             C\n",
       "7번        PYTHON\n",
       "8번            C#\n",
       "Name: SW특기, dtype: object"
      ]
     },
     "execution_count": 28,
     "metadata": {},
     "output_type": "execute_result"
    }
   ],
   "source": [
    "df[df.columns[-1]] # 맨 끝에 있는 값을 가져옴"
   ]
  },
  {
   "cell_type": "markdown",
   "id": "f7575084-d1bb-4478-8892-f1d86007c22f",
   "metadata": {},
   "source": [
    "## 슬라이싱"
   ]
  },
  {
   "cell_type": "code",
   "execution_count": 31,
   "id": "1e9b57af-6ed2-47cc-817e-278ff6758668",
   "metadata": {},
   "outputs": [
    {
     "data": {
      "text/html": [
       "<div>\n",
       "<style scoped>\n",
       "    .dataframe tbody tr th:only-of-type {\n",
       "        vertical-align: middle;\n",
       "    }\n",
       "\n",
       "    .dataframe tbody tr th {\n",
       "        vertical-align: top;\n",
       "    }\n",
       "\n",
       "    .dataframe thead th {\n",
       "        text-align: right;\n",
       "    }\n",
       "</style>\n",
       "<table border=\"1\" class=\"dataframe\">\n",
       "  <thead>\n",
       "    <tr style=\"text-align: right;\">\n",
       "      <th></th>\n",
       "      <th>이름</th>\n",
       "      <th>학교</th>\n",
       "      <th>키</th>\n",
       "      <th>국어</th>\n",
       "      <th>영어</th>\n",
       "      <th>수학</th>\n",
       "      <th>과학</th>\n",
       "      <th>사회</th>\n",
       "      <th>SW특기</th>\n",
       "    </tr>\n",
       "    <tr>\n",
       "      <th>지원번호</th>\n",
       "      <th></th>\n",
       "      <th></th>\n",
       "      <th></th>\n",
       "      <th></th>\n",
       "      <th></th>\n",
       "      <th></th>\n",
       "      <th></th>\n",
       "      <th></th>\n",
       "      <th></th>\n",
       "    </tr>\n",
       "  </thead>\n",
       "  <tbody>\n",
       "    <tr>\n",
       "      <th>1번</th>\n",
       "      <td>채치수</td>\n",
       "      <td>북산고</td>\n",
       "      <td>197</td>\n",
       "      <td>90</td>\n",
       "      <td>85</td>\n",
       "      <td>100</td>\n",
       "      <td>95</td>\n",
       "      <td>85</td>\n",
       "      <td>Python</td>\n",
       "    </tr>\n",
       "    <tr>\n",
       "      <th>2번</th>\n",
       "      <td>정대만</td>\n",
       "      <td>북산고</td>\n",
       "      <td>184</td>\n",
       "      <td>40</td>\n",
       "      <td>35</td>\n",
       "      <td>50</td>\n",
       "      <td>55</td>\n",
       "      <td>25</td>\n",
       "      <td>Java</td>\n",
       "    </tr>\n",
       "    <tr>\n",
       "      <th>3번</th>\n",
       "      <td>송태섭</td>\n",
       "      <td>북산고</td>\n",
       "      <td>168</td>\n",
       "      <td>80</td>\n",
       "      <td>75</td>\n",
       "      <td>70</td>\n",
       "      <td>80</td>\n",
       "      <td>75</td>\n",
       "      <td>Javascript</td>\n",
       "    </tr>\n",
       "    <tr>\n",
       "      <th>4번</th>\n",
       "      <td>서태웅</td>\n",
       "      <td>북산고</td>\n",
       "      <td>187</td>\n",
       "      <td>40</td>\n",
       "      <td>60</td>\n",
       "      <td>70</td>\n",
       "      <td>75</td>\n",
       "      <td>80</td>\n",
       "      <td>NaN</td>\n",
       "    </tr>\n",
       "    <tr>\n",
       "      <th>5번</th>\n",
       "      <td>강백호</td>\n",
       "      <td>북산고</td>\n",
       "      <td>188</td>\n",
       "      <td>15</td>\n",
       "      <td>20</td>\n",
       "      <td>10</td>\n",
       "      <td>35</td>\n",
       "      <td>10</td>\n",
       "      <td>NaN</td>\n",
       "    </tr>\n",
       "    <tr>\n",
       "      <th>6번</th>\n",
       "      <td>변덕규</td>\n",
       "      <td>능남고</td>\n",
       "      <td>202</td>\n",
       "      <td>80</td>\n",
       "      <td>100</td>\n",
       "      <td>95</td>\n",
       "      <td>85</td>\n",
       "      <td>80</td>\n",
       "      <td>C</td>\n",
       "    </tr>\n",
       "    <tr>\n",
       "      <th>7번</th>\n",
       "      <td>황태산</td>\n",
       "      <td>능남고</td>\n",
       "      <td>188</td>\n",
       "      <td>55</td>\n",
       "      <td>65</td>\n",
       "      <td>45</td>\n",
       "      <td>40</td>\n",
       "      <td>35</td>\n",
       "      <td>PYTHON</td>\n",
       "    </tr>\n",
       "    <tr>\n",
       "      <th>8번</th>\n",
       "      <td>윤대협</td>\n",
       "      <td>능남고</td>\n",
       "      <td>190</td>\n",
       "      <td>100</td>\n",
       "      <td>85</td>\n",
       "      <td>90</td>\n",
       "      <td>95</td>\n",
       "      <td>95</td>\n",
       "      <td>C#</td>\n",
       "    </tr>\n",
       "  </tbody>\n",
       "</table>\n",
       "</div>"
      ],
      "text/plain": [
       "       이름   학교    키   국어   영어   수학  과학  사회        SW특기\n",
       "지원번호                                                  \n",
       "1번    채치수  북산고  197   90   85  100  95  85      Python\n",
       "2번    정대만  북산고  184   40   35   50  55  25        Java\n",
       "3번    송태섭  북산고  168   80   75   70  80  75  Javascript\n",
       "4번    서태웅  북산고  187   40   60   70  75  80         NaN\n",
       "5번    강백호  북산고  188   15   20   10  35  10         NaN\n",
       "6번    변덕규  능남고  202   80  100   95  85  80           C\n",
       "7번    황태산  능남고  188   55   65   45  40  35      PYTHON\n",
       "8번    윤대협  능남고  190  100   85   90  95  95          C#"
      ]
     },
     "execution_count": 31,
     "metadata": {},
     "output_type": "execute_result"
    }
   ],
   "source": [
    "df"
   ]
  },
  {
   "cell_type": "code",
   "execution_count": 37,
   "id": "c51d442f-0fda-46d7-966b-4c79253be4e7",
   "metadata": {},
   "outputs": [
    {
     "data": {
      "text/plain": [
       "지원번호\n",
       "1번    85\n",
       "2번    35\n",
       "3번    75\n",
       "4번    60\n",
       "5번    20\n",
       "Name: 영어, dtype: int64"
      ]
     },
     "execution_count": 37,
     "metadata": {},
     "output_type": "execute_result"
    }
   ],
   "source": [
    "df['영어'][0:5] # 0 ~ 4까지 영어 점수 데이터 가져옴"
   ]
  },
  {
   "cell_type": "code",
   "execution_count": 39,
   "id": "480e3850-3b2d-43cf-990c-b20187df8db7",
   "metadata": {},
   "outputs": [
    {
     "data": {
      "text/html": [
       "<div>\n",
       "<style scoped>\n",
       "    .dataframe tbody tr th:only-of-type {\n",
       "        vertical-align: middle;\n",
       "    }\n",
       "\n",
       "    .dataframe tbody tr th {\n",
       "        vertical-align: top;\n",
       "    }\n",
       "\n",
       "    .dataframe thead th {\n",
       "        text-align: right;\n",
       "    }\n",
       "</style>\n",
       "<table border=\"1\" class=\"dataframe\">\n",
       "  <thead>\n",
       "    <tr style=\"text-align: right;\">\n",
       "      <th></th>\n",
       "      <th>이름</th>\n",
       "      <th>키</th>\n",
       "    </tr>\n",
       "    <tr>\n",
       "      <th>지원번호</th>\n",
       "      <th></th>\n",
       "      <th></th>\n",
       "    </tr>\n",
       "  </thead>\n",
       "  <tbody>\n",
       "    <tr>\n",
       "      <th>1번</th>\n",
       "      <td>채치수</td>\n",
       "      <td>197</td>\n",
       "    </tr>\n",
       "    <tr>\n",
       "      <th>2번</th>\n",
       "      <td>정대만</td>\n",
       "      <td>184</td>\n",
       "    </tr>\n",
       "    <tr>\n",
       "      <th>3번</th>\n",
       "      <td>송태섭</td>\n",
       "      <td>168</td>\n",
       "    </tr>\n",
       "  </tbody>\n",
       "</table>\n",
       "</div>"
      ],
      "text/plain": [
       "       이름    키\n",
       "지원번호          \n",
       "1번    채치수  197\n",
       "2번    정대만  184\n",
       "3번    송태섭  168"
      ]
     },
     "execution_count": 39,
     "metadata": {},
     "output_type": "execute_result"
    }
   ],
   "source": [
    "df[['이름','키']][:3] # 처음 3명의 이름, 키 정보를 가져옴"
   ]
  },
  {
   "cell_type": "code",
   "execution_count": 41,
   "id": "06b082d3-9cb9-4cd1-8b22-a92ed6ec151d",
   "metadata": {},
   "outputs": [
    {
     "data": {
      "text/html": [
       "<div>\n",
       "<style scoped>\n",
       "    .dataframe tbody tr th:only-of-type {\n",
       "        vertical-align: middle;\n",
       "    }\n",
       "\n",
       "    .dataframe tbody tr th {\n",
       "        vertical-align: top;\n",
       "    }\n",
       "\n",
       "    .dataframe thead th {\n",
       "        text-align: right;\n",
       "    }\n",
       "</style>\n",
       "<table border=\"1\" class=\"dataframe\">\n",
       "  <thead>\n",
       "    <tr style=\"text-align: right;\">\n",
       "      <th></th>\n",
       "      <th>이름</th>\n",
       "      <th>학교</th>\n",
       "      <th>키</th>\n",
       "      <th>국어</th>\n",
       "      <th>영어</th>\n",
       "      <th>수학</th>\n",
       "      <th>과학</th>\n",
       "      <th>사회</th>\n",
       "      <th>SW특기</th>\n",
       "    </tr>\n",
       "    <tr>\n",
       "      <th>지원번호</th>\n",
       "      <th></th>\n",
       "      <th></th>\n",
       "      <th></th>\n",
       "      <th></th>\n",
       "      <th></th>\n",
       "      <th></th>\n",
       "      <th></th>\n",
       "      <th></th>\n",
       "      <th></th>\n",
       "    </tr>\n",
       "  </thead>\n",
       "  <tbody>\n",
       "    <tr>\n",
       "      <th>4번</th>\n",
       "      <td>서태웅</td>\n",
       "      <td>북산고</td>\n",
       "      <td>187</td>\n",
       "      <td>40</td>\n",
       "      <td>60</td>\n",
       "      <td>70</td>\n",
       "      <td>75</td>\n",
       "      <td>80</td>\n",
       "      <td>NaN</td>\n",
       "    </tr>\n",
       "    <tr>\n",
       "      <th>5번</th>\n",
       "      <td>강백호</td>\n",
       "      <td>북산고</td>\n",
       "      <td>188</td>\n",
       "      <td>15</td>\n",
       "      <td>20</td>\n",
       "      <td>10</td>\n",
       "      <td>35</td>\n",
       "      <td>10</td>\n",
       "      <td>NaN</td>\n",
       "    </tr>\n",
       "    <tr>\n",
       "      <th>6번</th>\n",
       "      <td>변덕규</td>\n",
       "      <td>능남고</td>\n",
       "      <td>202</td>\n",
       "      <td>80</td>\n",
       "      <td>100</td>\n",
       "      <td>95</td>\n",
       "      <td>85</td>\n",
       "      <td>80</td>\n",
       "      <td>C</td>\n",
       "    </tr>\n",
       "    <tr>\n",
       "      <th>7번</th>\n",
       "      <td>황태산</td>\n",
       "      <td>능남고</td>\n",
       "      <td>188</td>\n",
       "      <td>55</td>\n",
       "      <td>65</td>\n",
       "      <td>45</td>\n",
       "      <td>40</td>\n",
       "      <td>35</td>\n",
       "      <td>PYTHON</td>\n",
       "    </tr>\n",
       "    <tr>\n",
       "      <th>8번</th>\n",
       "      <td>윤대협</td>\n",
       "      <td>능남고</td>\n",
       "      <td>190</td>\n",
       "      <td>100</td>\n",
       "      <td>85</td>\n",
       "      <td>90</td>\n",
       "      <td>95</td>\n",
       "      <td>95</td>\n",
       "      <td>C#</td>\n",
       "    </tr>\n",
       "  </tbody>\n",
       "</table>\n",
       "</div>"
      ],
      "text/plain": [
       "       이름   학교    키   국어   영어  수학  과학  사회    SW특기\n",
       "지원번호                                             \n",
       "4번    서태웅  북산고  187   40   60  70  75  80     NaN\n",
       "5번    강백호  북산고  188   15   20  10  35  10     NaN\n",
       "6번    변덕규  능남고  202   80  100  95  85  80       C\n",
       "7번    황태산  능남고  188   55   65  45  40  35  PYTHON\n",
       "8번    윤대협  능남고  190  100   85  90  95  95      C#"
      ]
     },
     "execution_count": 41,
     "metadata": {},
     "output_type": "execute_result"
    }
   ],
   "source": [
    "df[3:] # 4번째 데이터부터 마지막 데이터까지 모든 정보를 가져옴"
   ]
  }
 ],
 "metadata": {
  "kernelspec": {
   "display_name": "Python [conda env:base] *",
   "language": "python",
   "name": "conda-base-py"
  },
  "language_info": {
   "codemirror_mode": {
    "name": "ipython",
    "version": 3
   },
   "file_extension": ".py",
   "mimetype": "text/x-python",
   "name": "python",
   "nbconvert_exporter": "python",
   "pygments_lexer": "ipython3",
   "version": "3.12.7"
  }
 },
 "nbformat": 4,
 "nbformat_minor": 5
}
